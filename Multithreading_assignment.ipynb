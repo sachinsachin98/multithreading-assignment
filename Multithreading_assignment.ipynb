{
 "cells": [
  {
   "cell_type": "markdown",
   "id": "a39ec457-e8c6-4338-b941-0d2d7223d39c",
   "metadata": {},
   "source": [
    "#Q1\n",
    " Multithreading helps in concurrently executing multiple threads by rapidly switching the control of the processor between threads. It is a technique in which multiple threads in a process share their data space with the main thread which makes information sharing and communication within threads easier and efficient. They may execute individually while sharing their process resources. Its purpose of is to run multiple tasks and function cells at the same time.\n",
    "Two main modules are 1)thread & 2)threading"
   ]
  },
  {
   "cell_type": "markdown",
   "id": "5db9e113-cf51-4542-9a91-d3ebf7d956ce",
   "metadata": {},
   "source": [
    "#Q2  High-level implementation of multithreading used to deploy an application in Python is known as threading module. \n",
    "activeCount(): it returns the number of threads that are currently active. Syntax threading.active_count() returns an integer value.\n",
    "currentThread(): it returns the current Thread object, which corresponds to the caller's thread of control. Syntax threading.current_thread() returns an object.\n",
    "enumerate(): it takes the given input as a collection or tuples and returns it as an enumerate object. It returns a list of all Threads currently alive, including the main thread, terminated threads and threads that have not yet been started are excluded."
   ]
  },
  {
   "cell_type": "markdown",
   "id": "8efc7ca9-2914-460e-993b-9349941e78a3",
   "metadata": {},
   "source": [
    "#Q3 \n",
    "run(): it is the entry point for the thread. When a thread is started, its run() method is called.\n",
    "\n",
    "start(): it is used to start the execution of a thread. When the start() method is called, the thread's run() method is executed in a separate thread of execution.\n",
    "\n",
    "join(): it  is used to wait for the thread to complete its execution. When the join() method is called, the program waits until the thread completes before continuing execution.\n",
    "\n",
    "\n",
    "isAlive(): it is used to check whether the thread is currently executing. The method returns True if the thread is currently executing, and False otherwise."
   ]
  },
  {
   "cell_type": "code",
   "execution_count": 1,
   "id": "e25eb2e6-bb76-42bc-b931-7dfbca1efaf1",
   "metadata": {},
   "outputs": [
    {
     "name": "stdout",
     "output_type": "stream",
     "text": [
      "[1, 4, 9, 16]\n",
      "[1, 8, 27, 64]\n"
     ]
    }
   ],
   "source": [
    "#Q4\n",
    "import threading\n",
    "\n",
    "def squares():\n",
    "    result=[]\n",
    "    l1 = [1,2,3,4]\n",
    "    for i in l1:\n",
    "        result.append(i**2)\n",
    "    print(result)\n",
    "    \n",
    "def cubes():\n",
    "    result=[]\n",
    "    l = [1,2,3,4]\n",
    "    for i in l:\n",
    "        result.append(i**3)\n",
    "    print(result)\n",
    "    \n",
    "thread1 = threading.Thread(target=squares,)\n",
    "thread2 = threading.Thread(target=cubes,)\n",
    "\n",
    "thread1.start()\n",
    "thread2.start()\n",
    "\n",
    "thread1.join()\n",
    "thread2.join()    "
   ]
  },
  {
   "cell_type": "markdown",
   "id": "88ff96a0-524d-4495-bf70-5f7e3f35a288",
   "metadata": {},
   "source": [
    "#Q5\n",
    "Advantages- \n",
    "Multithreading in an interactive application enables a program to continue running even if a section is blocked or executing a lengthy process, increasing user responsiveness.\n",
    "\n",
    "treads share a memory with the process to which they belong hence establishing and context switching threads is more cost-effective.\n",
    "\n",
    "Thread synchronization functions could be used to improve inter-process communication.\n",
    "\n",
    "hreads have a minimal influence on the system's resources. The overhead of creating, maintaining, and managing threads is lower than a general process.\n",
    "\n",
    "#disadvantages-\n",
    "\n",
    "needs more careful synchronization.\n",
    "\n",
    "can consume a large space of stocks of blocked threads.\n",
    "\n",
    "needs support for thread or process.\n",
    "\n",
    "If a parent process has several threads for proper process functioning, the child processes should also be \n",
    "multithreaded because they may be required.\n",
    "\n",
    "It imposes context switching overhead.\n",
    "\n",
    "\n"
   ]
  },
  {
   "cell_type": "markdown",
   "id": "4ae0f10f-434d-49cb-8179-1d3d79893cbc",
   "metadata": {},
   "source": [
    "#Q6\n",
    "Deadlocks occur when two or more threads are waiting for each other to release resources that they need in order to proceed. Deadlocks can occur when a thread holds a resource and then tries to acquire another resource that is held by another thread, which is also waiting for the first thread to release the resource it holds. This can result in a situation where both threads are waiting for each other to release the resources they need, and neither can proceed. Deadlocks can be difficult to detect and resolve, as they can be intermittent and dependent on timing and scheduling.\n",
    "\n",
    "Race conditions occur when two or more threads access a shared resource simultaneously and the behavior of the program depends on the order in which the threads execute. Race conditions can occur when a shared resource is not properly synchronized, allowing multiple threads to access it simultaneously. This can lead to unexpected and unpredictable behavior, as the behavior of the program depends on the timing and scheduling of the threads. Race conditions can be difficult to detect and reproduce, as they can be dependent on timing and other factors."
   ]
  }
 ],
 "metadata": {
  "kernelspec": {
   "display_name": "Python 3 (ipykernel)",
   "language": "python",
   "name": "python3"
  },
  "language_info": {
   "codemirror_mode": {
    "name": "ipython",
    "version": 3
   },
   "file_extension": ".py",
   "mimetype": "text/x-python",
   "name": "python",
   "nbconvert_exporter": "python",
   "pygments_lexer": "ipython3",
   "version": "3.10.8"
  }
 },
 "nbformat": 4,
 "nbformat_minor": 5
}
